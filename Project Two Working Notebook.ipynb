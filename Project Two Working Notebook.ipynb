{
 "cells": [
  {
   "cell_type": "code",
   "execution_count": 33,
   "outputs": [],
   "source": [
    "# import required libraries\n",
    "import praw\n",
    "from IPython import display\n",
    "from pprint import pprint\n",
    "import pandas as pd\n",
    "import numpy as np\n",
    "import nltk\n",
    "import tqdm\n",
    "import matplotlib.pyplot as plt\n",
    "import seaborn as sns\n",
    "\n",
    "from nltk.sentiment.vader import SentimentIntensityAnalyzer as SIA\n",
    "\n",
    "sns.set(style='darkgrid')"
   ],
   "metadata": {
    "collapsed": false,
    "pycharm": {
     "name": "#%%\n"
    }
   }
  },
  {
   "cell_type": "code",
   "execution_count": 2,
   "outputs": [
    {
     "name": "stderr",
     "output_type": "stream",
     "text": [
      "Version 7.5.0 of praw is outdated. Version 7.6.1 was released 5 days ago.\n"
     ]
    }
   ],
   "source": [
    "reddit = praw.Reddit(client_id='vm4lkJvkhWM00FjppcHjPA',\n",
    "                     client_secret='m2-rS76QQV22MAUv2E7bB0YzRA0U4w',\n",
    "                     user_agent='MrKimhof')"
   ],
   "metadata": {
    "collapsed": false,
    "pycharm": {
     "name": "#%%\n"
    }
   }
  },
  {
   "cell_type": "code",
   "execution_count": 3,
   "outputs": [],
   "source": [
    "# define set for headlines\n",
    "# set removes chances of getting duplicate headlines\n",
    "headlines = set()"
   ],
   "metadata": {
    "collapsed": false,
    "pycharm": {
     "name": "#%%\n"
    }
   }
  },
  {
   "cell_type": "code",
   "execution_count": 4,
   "outputs": [
    {
     "name": "stdout",
     "output_type": "stream",
     "text": [
      "992\n"
     ]
    }
   ],
   "source": [
    "# for each post is the /r/politics subreddit, iterate through and extract the headlines\n",
    "for post in reddit.subreddit('politics').new(limit=None):\n",
    "    headlines.add(post.title)\n",
    "    display.clear_output()\n",
    "    print(len(headlines))"
   ],
   "metadata": {
    "collapsed": false,
    "pycharm": {
     "name": "#%%\n"
    }
   }
  },
  {
   "cell_type": "code",
   "execution_count": 5,
   "outputs": [
    {
     "name": "stderr",
     "output_type": "stream",
     "text": [
      "[nltk_data] Downloading package vader_lexicon to\n",
      "[nltk_data]     C:\\Users\\taylo\\AppData\\Roaming\\nltk_data...\n",
      "[nltk_data]   Package vader_lexicon is already up-to-date!\n",
      "[nltk_data] Downloading package stopwords to\n",
      "[nltk_data]     C:\\Users\\taylo\\AppData\\Roaming\\nltk_data...\n",
      "[nltk_data]   Package stopwords is already up-to-date!\n"
     ]
    },
    {
     "data": {
      "text/plain": "True"
     },
     "execution_count": 5,
     "metadata": {},
     "output_type": "execute_result"
    }
   ],
   "source": [
    "nltk.download('vader_lexicon')\n",
    "nltk.download('stopwords')"
   ],
   "metadata": {
    "collapsed": false,
    "pycharm": {
     "name": "#%%\n"
    }
   }
  },
  {
   "cell_type": "code",
   "execution_count": 6,
   "outputs": [
    {
     "name": "stdout",
     "output_type": "stream",
     "text": [
      "[{'compound': 0.4215,\n",
      "  'headlines': 'Democrats to maintain control of the United States Senate',\n",
      "  'neg': 0.0,\n",
      "  'neu': 0.741,\n",
      "  'pos': 0.259},\n",
      " {'compound': 0.0,\n",
      "  'headlines': 'Audio shows interim Uvalde police chief knew about room '\n",
      "               '‘full of victims’ during Robb Elementary shooting, CNN '\n",
      "               'reports',\n",
      "  'neg': 0.0,\n",
      "  'neu': 1.0,\n",
      "  'pos': 0.0},\n",
      " {'compound': 0.0,\n",
      "  'headlines': 'What Mitch McConnell nailed about the 2022 Senate races | '\n",
      "               'CNN Politics',\n",
      "  'neg': 0.0,\n",
      "  'neu': 1.0,\n",
      "  'pos': 0.0},\n",
      " {'compound': 0.0,\n",
      "  'headlines': 'It’s official: Florida is a red state',\n",
      "  'neg': 0.0,\n",
      "  'neu': 1.0,\n",
      "  'pos': 0.0},\n",
      " {'compound': -0.1027,\n",
      "  'headlines': 'How the fall of Roe shattered Republicans’ midterm dreams',\n",
      "  'neg': 0.242,\n",
      "  'neu': 0.547,\n",
      "  'pos': 0.211}]\n"
     ]
    }
   ],
   "source": [
    "# use vader SIA to rank each portion of the text as positive, negative, or neutral\n",
    "\n",
    "# create new sia object\n",
    "sia = SIA()\n",
    "results = [] # empty to list to append calculated polarity scores\n",
    "\n",
    "# iterate through each headline in set and append to results list\n",
    "for headline in headlines:\n",
    "    polarity = sia.polarity_scores(headline)\n",
    "    polarity['headlines'] = headline\n",
    "    results.append(polarity)\n",
    "\n",
    "# print results to ensure scores encoded properly\n",
    "pprint(results[:5], width=75)"
   ],
   "metadata": {
    "collapsed": false,
    "pycharm": {
     "name": "#%%\n"
    }
   }
  },
  {
   "cell_type": "code",
   "execution_count": 7,
   "outputs": [
    {
     "data": {
      "text/plain": "     neg    neu    pos  compound  \\\n0  0.000  0.741  0.259    0.4215   \n1  0.000  1.000  0.000    0.0000   \n2  0.000  1.000  0.000    0.0000   \n3  0.000  1.000  0.000    0.0000   \n4  0.242  0.547  0.211   -0.1027   \n\n                                           headlines  \n0  Democrats to maintain control of the United St...  \n1  Audio shows interim Uvalde police chief knew a...  \n2  What Mitch McConnell nailed about the 2022 Sen...  \n3              It’s official: Florida is a red state  \n4  How the fall of Roe shattered Republicans’ mid...  ",
      "text/html": "<div>\n<style scoped>\n    .dataframe tbody tr th:only-of-type {\n        vertical-align: middle;\n    }\n\n    .dataframe tbody tr th {\n        vertical-align: top;\n    }\n\n    .dataframe thead th {\n        text-align: right;\n    }\n</style>\n<table border=\"1\" class=\"dataframe\">\n  <thead>\n    <tr style=\"text-align: right;\">\n      <th></th>\n      <th>neg</th>\n      <th>neu</th>\n      <th>pos</th>\n      <th>compound</th>\n      <th>headlines</th>\n    </tr>\n  </thead>\n  <tbody>\n    <tr>\n      <th>0</th>\n      <td>0.000</td>\n      <td>0.741</td>\n      <td>0.259</td>\n      <td>0.4215</td>\n      <td>Democrats to maintain control of the United St...</td>\n    </tr>\n    <tr>\n      <th>1</th>\n      <td>0.000</td>\n      <td>1.000</td>\n      <td>0.000</td>\n      <td>0.0000</td>\n      <td>Audio shows interim Uvalde police chief knew a...</td>\n    </tr>\n    <tr>\n      <th>2</th>\n      <td>0.000</td>\n      <td>1.000</td>\n      <td>0.000</td>\n      <td>0.0000</td>\n      <td>What Mitch McConnell nailed about the 2022 Sen...</td>\n    </tr>\n    <tr>\n      <th>3</th>\n      <td>0.000</td>\n      <td>1.000</td>\n      <td>0.000</td>\n      <td>0.0000</td>\n      <td>It’s official: Florida is a red state</td>\n    </tr>\n    <tr>\n      <th>4</th>\n      <td>0.242</td>\n      <td>0.547</td>\n      <td>0.211</td>\n      <td>-0.1027</td>\n      <td>How the fall of Roe shattered Republicans’ mid...</td>\n    </tr>\n  </tbody>\n</table>\n</div>"
     },
     "execution_count": 7,
     "metadata": {},
     "output_type": "execute_result"
    }
   ],
   "source": [
    "# create pandas dataframe from records create in previous step\n",
    "df = pd.DataFrame.from_records(results)\n",
    "df.head() # display first five obs to ensure data loaded properly"
   ],
   "metadata": {
    "collapsed": false,
    "pycharm": {
     "name": "#%%\n"
    }
   }
  },
  {
   "cell_type": "code",
   "execution_count": 8,
   "outputs": [
    {
     "data": {
      "text/plain": "     neg    neu    pos  compound  \\\n0  0.000  0.741  0.259    0.4215   \n1  0.000  1.000  0.000    0.0000   \n2  0.000  1.000  0.000    0.0000   \n3  0.000  1.000  0.000    0.0000   \n4  0.242  0.547  0.211   -0.1027   \n\n                                           headlines  label  \n0  Democrats to maintain control of the United St...    1.0  \n1  Audio shows interim Uvalde police chief knew a...    0.0  \n2  What Mitch McConnell nailed about the 2022 Sen...    0.0  \n3              It’s official: Florida is a red state    0.0  \n4  How the fall of Roe shattered Republicans’ mid...    0.0  ",
      "text/html": "<div>\n<style scoped>\n    .dataframe tbody tr th:only-of-type {\n        vertical-align: middle;\n    }\n\n    .dataframe tbody tr th {\n        vertical-align: top;\n    }\n\n    .dataframe thead th {\n        text-align: right;\n    }\n</style>\n<table border=\"1\" class=\"dataframe\">\n  <thead>\n    <tr style=\"text-align: right;\">\n      <th></th>\n      <th>neg</th>\n      <th>neu</th>\n      <th>pos</th>\n      <th>compound</th>\n      <th>headlines</th>\n      <th>label</th>\n    </tr>\n  </thead>\n  <tbody>\n    <tr>\n      <th>0</th>\n      <td>0.000</td>\n      <td>0.741</td>\n      <td>0.259</td>\n      <td>0.4215</td>\n      <td>Democrats to maintain control of the United St...</td>\n      <td>1.0</td>\n    </tr>\n    <tr>\n      <th>1</th>\n      <td>0.000</td>\n      <td>1.000</td>\n      <td>0.000</td>\n      <td>0.0000</td>\n      <td>Audio shows interim Uvalde police chief knew a...</td>\n      <td>0.0</td>\n    </tr>\n    <tr>\n      <th>2</th>\n      <td>0.000</td>\n      <td>1.000</td>\n      <td>0.000</td>\n      <td>0.0000</td>\n      <td>What Mitch McConnell nailed about the 2022 Sen...</td>\n      <td>0.0</td>\n    </tr>\n    <tr>\n      <th>3</th>\n      <td>0.000</td>\n      <td>1.000</td>\n      <td>0.000</td>\n      <td>0.0000</td>\n      <td>It’s official: Florida is a red state</td>\n      <td>0.0</td>\n    </tr>\n    <tr>\n      <th>4</th>\n      <td>0.242</td>\n      <td>0.547</td>\n      <td>0.211</td>\n      <td>-0.1027</td>\n      <td>How the fall of Roe shattered Republicans’ mid...</td>\n      <td>0.0</td>\n    </tr>\n  </tbody>\n</table>\n</div>"
     },
     "execution_count": 8,
     "metadata": {},
     "output_type": "execute_result"
    }
   ],
   "source": [
    "# create new label column and encode:\n",
    "#    0: neutral\n",
    "#    1: positive (compound > +0.2)\n",
    "#   -1: negative (compound < -0.2)\n",
    "df['label'] = 0\n",
    "df.loc[df.compound == 0, 'label'] = 0\n",
    "df.loc[df.compound > 0.2, 'label'] = 1.0\n",
    "df.loc[df.compound < -0.2, 'label'] = -1\n",
    "\n",
    "# display first five obs to ensure new column added properly\n",
    "df.head()"
   ],
   "metadata": {
    "collapsed": false,
    "pycharm": {
     "name": "#%%\n"
    }
   }
  },
  {
   "cell_type": "code",
   "execution_count": 9,
   "outputs": [],
   "source": [
    "# create new df with just target label and headline feature\n",
    "df2 = df[['headlines', 'label']]"
   ],
   "metadata": {
    "collapsed": false,
    "pycharm": {
     "name": "#%%\n"
    }
   }
  },
  {
   "cell_type": "code",
   "execution_count": 36,
   "outputs": [
    {
     "name": "stdout",
     "output_type": "stream",
     "text": [
      "^C\n"
     ]
    }
   ],
   "source": [
    "!pip uninstall snappy python-snappy"
   ],
   "metadata": {
    "collapsed": false,
    "pycharm": {
     "name": "#%%\n"
    }
   }
  },
  {
   "cell_type": "code",
   "execution_count": 30,
   "outputs": [
    {
     "ename": "AttributeError",
     "evalue": "module 'fsspec' has no attribute 'utils'",
     "output_type": "error",
     "traceback": [
      "\u001B[1;31m---------------------------------------------------------------------------\u001B[0m",
      "\u001B[1;31mAttributeError\u001B[0m                            Traceback (most recent call last)",
      "\u001B[1;32m<ipython-input-30-e03a8a441dbd>\u001B[0m in \u001B[0;36m<module>\u001B[1;34m\u001B[0m\n\u001B[1;32m----> 1\u001B[1;33m \u001B[0mdf2\u001B[0m\u001B[1;33m.\u001B[0m\u001B[0mto_csv\u001B[0m\u001B[1;33m(\u001B[0m\u001B[1;34m'labeled_reddit_comments.csv'\u001B[0m\u001B[1;33m)\u001B[0m\u001B[1;33m\u001B[0m\u001B[1;33m\u001B[0m\u001B[0m\n\u001B[0m",
      "\u001B[1;32m~\\anaconda3\\envs\\dsc650\\lib\\site-packages\\pandas\\core\\generic.py\u001B[0m in \u001B[0;36mto_csv\u001B[1;34m(self, path_or_buf, sep, na_rep, float_format, columns, header, index, index_label, mode, encoding, compression, quoting, quotechar, line_terminator, chunksize, date_format, doublequote, escapechar, decimal)\u001B[0m\n\u001B[0;32m   3202\u001B[0m             \u001B[0mdecimal\u001B[0m\u001B[1;33m=\u001B[0m\u001B[0mdecimal\u001B[0m\u001B[1;33m,\u001B[0m\u001B[1;33m\u001B[0m\u001B[1;33m\u001B[0m\u001B[0m\n\u001B[0;32m   3203\u001B[0m         )\n\u001B[1;32m-> 3204\u001B[1;33m         \u001B[0mformatter\u001B[0m\u001B[1;33m.\u001B[0m\u001B[0msave\u001B[0m\u001B[1;33m(\u001B[0m\u001B[1;33m)\u001B[0m\u001B[1;33m\u001B[0m\u001B[1;33m\u001B[0m\u001B[0m\n\u001B[0m\u001B[0;32m   3205\u001B[0m \u001B[1;33m\u001B[0m\u001B[0m\n\u001B[0;32m   3206\u001B[0m         \u001B[1;32mif\u001B[0m \u001B[0mpath_or_buf\u001B[0m \u001B[1;32mis\u001B[0m \u001B[1;32mNone\u001B[0m\u001B[1;33m:\u001B[0m\u001B[1;33m\u001B[0m\u001B[1;33m\u001B[0m\u001B[0m\n",
      "\u001B[1;32m~\\anaconda3\\envs\\dsc650\\lib\\site-packages\\pandas\\io\\formats\\csvs.py\u001B[0m in \u001B[0;36msave\u001B[1;34m(self)\u001B[0m\n\u001B[0;32m    186\u001B[0m                 \u001B[0mself\u001B[0m\u001B[1;33m.\u001B[0m\u001B[0mmode\u001B[0m\u001B[1;33m,\u001B[0m\u001B[1;33m\u001B[0m\u001B[1;33m\u001B[0m\u001B[0m\n\u001B[0;32m    187\u001B[0m                 \u001B[0mencoding\u001B[0m\u001B[1;33m=\u001B[0m\u001B[0mself\u001B[0m\u001B[1;33m.\u001B[0m\u001B[0mencoding\u001B[0m\u001B[1;33m,\u001B[0m\u001B[1;33m\u001B[0m\u001B[1;33m\u001B[0m\u001B[0m\n\u001B[1;32m--> 188\u001B[1;33m                 \u001B[0mcompression\u001B[0m\u001B[1;33m=\u001B[0m\u001B[0mdict\u001B[0m\u001B[1;33m(\u001B[0m\u001B[0mself\u001B[0m\u001B[1;33m.\u001B[0m\u001B[0mcompression_args\u001B[0m\u001B[1;33m,\u001B[0m \u001B[0mmethod\u001B[0m\u001B[1;33m=\u001B[0m\u001B[0mself\u001B[0m\u001B[1;33m.\u001B[0m\u001B[0mcompression\u001B[0m\u001B[1;33m)\u001B[0m\u001B[1;33m,\u001B[0m\u001B[1;33m\u001B[0m\u001B[1;33m\u001B[0m\u001B[0m\n\u001B[0m\u001B[0;32m    189\u001B[0m             )\n\u001B[0;32m    190\u001B[0m             \u001B[0mclose\u001B[0m \u001B[1;33m=\u001B[0m \u001B[1;32mTrue\u001B[0m\u001B[1;33m\u001B[0m\u001B[1;33m\u001B[0m\u001B[0m\n",
      "\u001B[1;32m~\\anaconda3\\envs\\dsc650\\lib\\site-packages\\pandas\\io\\common.py\u001B[0m in \u001B[0;36mget_handle\u001B[1;34m(path_or_buf, mode, encoding, compression, memory_map, is_text)\u001B[0m\n\u001B[0;32m    360\u001B[0m     \"\"\"\n\u001B[0;32m    361\u001B[0m     \u001B[1;32mtry\u001B[0m\u001B[1;33m:\u001B[0m\u001B[1;33m\u001B[0m\u001B[1;33m\u001B[0m\u001B[0m\n\u001B[1;32m--> 362\u001B[1;33m         \u001B[1;32mfrom\u001B[0m \u001B[0ms3fs\u001B[0m \u001B[1;32mimport\u001B[0m \u001B[0mS3File\u001B[0m\u001B[1;33m\u001B[0m\u001B[1;33m\u001B[0m\u001B[0m\n\u001B[0m\u001B[0;32m    363\u001B[0m \u001B[1;33m\u001B[0m\u001B[0m\n\u001B[0;32m    364\u001B[0m         \u001B[0mneed_text_wrapping\u001B[0m \u001B[1;33m=\u001B[0m \u001B[1;33m(\u001B[0m\u001B[0mBufferedIOBase\u001B[0m\u001B[1;33m,\u001B[0m \u001B[0mRawIOBase\u001B[0m\u001B[1;33m,\u001B[0m \u001B[0mS3File\u001B[0m\u001B[1;33m)\u001B[0m\u001B[1;33m\u001B[0m\u001B[1;33m\u001B[0m\u001B[0m\n",
      "\u001B[1;32m~\\anaconda3\\envs\\dsc650\\lib\\site-packages\\s3fs\\__init__.py\u001B[0m in \u001B[0;36m<module>\u001B[1;34m\u001B[0m\n\u001B[1;32m----> 1\u001B[1;33m \u001B[1;32mfrom\u001B[0m \u001B[1;33m.\u001B[0m\u001B[0mcore\u001B[0m \u001B[1;32mimport\u001B[0m \u001B[0mS3FileSystem\u001B[0m\u001B[1;33m,\u001B[0m \u001B[0mS3File\u001B[0m\u001B[1;33m\u001B[0m\u001B[1;33m\u001B[0m\u001B[0m\n\u001B[0m\u001B[0;32m      2\u001B[0m \u001B[1;32mfrom\u001B[0m \u001B[1;33m.\u001B[0m\u001B[0mmapping\u001B[0m \u001B[1;32mimport\u001B[0m \u001B[0mS3Map\u001B[0m\u001B[1;33m\u001B[0m\u001B[1;33m\u001B[0m\u001B[0m\n\u001B[0;32m      3\u001B[0m \u001B[1;33m\u001B[0m\u001B[0m\n\u001B[0;32m      4\u001B[0m \u001B[1;32mfrom\u001B[0m \u001B[1;33m.\u001B[0m\u001B[0m_version\u001B[0m \u001B[1;32mimport\u001B[0m \u001B[0mget_versions\u001B[0m\u001B[1;33m\u001B[0m\u001B[1;33m\u001B[0m\u001B[0m\n\u001B[0;32m      5\u001B[0m \u001B[1;33m\u001B[0m\u001B[0m\n",
      "\u001B[1;32m~\\anaconda3\\envs\\dsc650\\lib\\site-packages\\s3fs\\core.py\u001B[0m in \u001B[0;36m<module>\u001B[1;34m\u001B[0m\n\u001B[0;32m     12\u001B[0m \u001B[1;32mfrom\u001B[0m \u001B[0mfsspec\u001B[0m\u001B[1;33m.\u001B[0m\u001B[0mspec\u001B[0m \u001B[1;32mimport\u001B[0m \u001B[0mAbstractBufferedFile\u001B[0m\u001B[1;33m\u001B[0m\u001B[1;33m\u001B[0m\u001B[0m\n\u001B[0;32m     13\u001B[0m \u001B[1;32mfrom\u001B[0m \u001B[0mfsspec\u001B[0m\u001B[1;33m.\u001B[0m\u001B[0mutils\u001B[0m \u001B[1;32mimport\u001B[0m \u001B[0minfer_storage_options\u001B[0m\u001B[1;33m,\u001B[0m \u001B[0mtokenize\u001B[0m\u001B[1;33m,\u001B[0m \u001B[0msetup_logging\u001B[0m \u001B[1;32mas\u001B[0m \u001B[0msetup_logger\u001B[0m\u001B[1;33m\u001B[0m\u001B[1;33m\u001B[0m\u001B[0m\n\u001B[1;32m---> 14\u001B[1;33m \u001B[1;32mfrom\u001B[0m \u001B[0mfsspec\u001B[0m\u001B[1;33m.\u001B[0m\u001B[0masyn\u001B[0m \u001B[1;32mimport\u001B[0m \u001B[0mAsyncFileSystem\u001B[0m\u001B[1;33m,\u001B[0m \u001B[0msync\u001B[0m\u001B[1;33m,\u001B[0m \u001B[0msync_wrapper\u001B[0m\u001B[1;33m,\u001B[0m \u001B[0mFSTimeoutError\u001B[0m\u001B[1;33m\u001B[0m\u001B[1;33m\u001B[0m\u001B[0m\n\u001B[0m\u001B[0;32m     15\u001B[0m \u001B[1;33m\u001B[0m\u001B[0m\n\u001B[0;32m     16\u001B[0m \u001B[1;32mimport\u001B[0m \u001B[0maiobotocore\u001B[0m\u001B[1;33m\u001B[0m\u001B[1;33m\u001B[0m\u001B[0m\n",
      "\u001B[1;32m~\\anaconda3\\envs\\dsc650\\lib\\site-packages\\fsspec\\__init__.py\u001B[0m in \u001B[0;36m<module>\u001B[1;34m\u001B[0m\n\u001B[0;32m     10\u001B[0m \u001B[1;32mfrom\u001B[0m \u001B[1;33m.\u001B[0m \u001B[1;32mimport\u001B[0m \u001B[0m_version\u001B[0m\u001B[1;33m,\u001B[0m \u001B[0mcaching\u001B[0m\u001B[1;33m\u001B[0m\u001B[1;33m\u001B[0m\u001B[0m\n\u001B[0;32m     11\u001B[0m \u001B[1;32mfrom\u001B[0m \u001B[1;33m.\u001B[0m\u001B[0mcallbacks\u001B[0m \u001B[1;32mimport\u001B[0m \u001B[0mCallback\u001B[0m\u001B[1;33m\u001B[0m\u001B[1;33m\u001B[0m\u001B[0m\n\u001B[1;32m---> 12\u001B[1;33m \u001B[1;32mfrom\u001B[0m \u001B[1;33m.\u001B[0m\u001B[0mcore\u001B[0m \u001B[1;32mimport\u001B[0m \u001B[0mget_fs_token_paths\u001B[0m\u001B[1;33m,\u001B[0m \u001B[0mopen\u001B[0m\u001B[1;33m,\u001B[0m \u001B[0mopen_files\u001B[0m\u001B[1;33m,\u001B[0m \u001B[0mopen_local\u001B[0m\u001B[1;33m\u001B[0m\u001B[1;33m\u001B[0m\u001B[0m\n\u001B[0m\u001B[0;32m     13\u001B[0m \u001B[1;32mfrom\u001B[0m \u001B[1;33m.\u001B[0m\u001B[0mexceptions\u001B[0m \u001B[1;32mimport\u001B[0m \u001B[0mFSTimeoutError\u001B[0m\u001B[1;33m\u001B[0m\u001B[1;33m\u001B[0m\u001B[0m\n\u001B[0;32m     14\u001B[0m \u001B[1;32mfrom\u001B[0m \u001B[1;33m.\u001B[0m\u001B[0mmapping\u001B[0m \u001B[1;32mimport\u001B[0m \u001B[0mFSMap\u001B[0m\u001B[1;33m,\u001B[0m \u001B[0mget_mapper\u001B[0m\u001B[1;33m\u001B[0m\u001B[1;33m\u001B[0m\u001B[0m\n",
      "\u001B[1;32m~\\anaconda3\\envs\\dsc650\\lib\\site-packages\\fsspec\\core.py\u001B[0m in \u001B[0;36m<module>\u001B[1;34m\u001B[0m\n\u001B[0;32m     16\u001B[0m     \u001B[0mcaches\u001B[0m\u001B[1;33m,\u001B[0m\u001B[1;33m\u001B[0m\u001B[1;33m\u001B[0m\u001B[0m\n\u001B[0;32m     17\u001B[0m )\n\u001B[1;32m---> 18\u001B[1;33m \u001B[1;32mfrom\u001B[0m \u001B[1;33m.\u001B[0m\u001B[0mcompression\u001B[0m \u001B[1;32mimport\u001B[0m \u001B[0mcompr\u001B[0m\u001B[1;33m\u001B[0m\u001B[1;33m\u001B[0m\u001B[0m\n\u001B[0m\u001B[0;32m     19\u001B[0m \u001B[1;32mfrom\u001B[0m \u001B[1;33m.\u001B[0m\u001B[0mregistry\u001B[0m \u001B[1;32mimport\u001B[0m \u001B[0mfilesystem\u001B[0m\u001B[1;33m,\u001B[0m \u001B[0mget_filesystem_class\u001B[0m\u001B[1;33m\u001B[0m\u001B[1;33m\u001B[0m\u001B[0m\n\u001B[0;32m     20\u001B[0m from .utils import (\n",
      "\u001B[1;32m~\\anaconda3\\envs\\dsc650\\lib\\site-packages\\fsspec\\compression.py\u001B[0m in \u001B[0;36m<module>\u001B[1;34m\u001B[0m\n\u001B[0;32m     68\u001B[0m \u001B[1;33m\u001B[0m\u001B[0m\n\u001B[0;32m     69\u001B[0m \u001B[1;33m\u001B[0m\u001B[0m\n\u001B[1;32m---> 70\u001B[1;33m \u001B[0mregister_compression\u001B[0m\u001B[1;33m(\u001B[0m\u001B[1;34m\"zip\"\u001B[0m\u001B[1;33m,\u001B[0m \u001B[0munzip\u001B[0m\u001B[1;33m,\u001B[0m \u001B[1;34m\"zip\"\u001B[0m\u001B[1;33m)\u001B[0m\u001B[1;33m\u001B[0m\u001B[1;33m\u001B[0m\u001B[0m\n\u001B[0m\u001B[0;32m     71\u001B[0m \u001B[0mregister_compression\u001B[0m\u001B[1;33m(\u001B[0m\u001B[1;34m\"bz2\"\u001B[0m\u001B[1;33m,\u001B[0m \u001B[0mBZ2File\u001B[0m\u001B[1;33m,\u001B[0m \u001B[1;34m\"bz2\"\u001B[0m\u001B[1;33m)\u001B[0m\u001B[1;33m\u001B[0m\u001B[1;33m\u001B[0m\u001B[0m\n\u001B[0;32m     72\u001B[0m \u001B[1;33m\u001B[0m\u001B[0m\n",
      "\u001B[1;32m~\\anaconda3\\envs\\dsc650\\lib\\site-packages\\fsspec\\compression.py\u001B[0m in \u001B[0;36mregister_compression\u001B[1;34m(name, callback, extensions, force)\u001B[0m\n\u001B[0;32m     44\u001B[0m \u001B[1;33m\u001B[0m\u001B[0m\n\u001B[0;32m     45\u001B[0m     \u001B[1;32mfor\u001B[0m \u001B[0mext\u001B[0m \u001B[1;32min\u001B[0m \u001B[0mextensions\u001B[0m\u001B[1;33m:\u001B[0m\u001B[1;33m\u001B[0m\u001B[1;33m\u001B[0m\u001B[0m\n\u001B[1;32m---> 46\u001B[1;33m         \u001B[1;32mif\u001B[0m \u001B[0mext\u001B[0m \u001B[1;32min\u001B[0m \u001B[0mfsspec\u001B[0m\u001B[1;33m.\u001B[0m\u001B[0mutils\u001B[0m\u001B[1;33m.\u001B[0m\u001B[0mcompressions\u001B[0m \u001B[1;32mand\u001B[0m \u001B[1;32mnot\u001B[0m \u001B[0mforce\u001B[0m\u001B[1;33m:\u001B[0m\u001B[1;33m\u001B[0m\u001B[1;33m\u001B[0m\u001B[0m\n\u001B[0m\u001B[0;32m     47\u001B[0m             raise ValueError(\n\u001B[0;32m     48\u001B[0m                 \u001B[1;34m\"Duplicate compression file extension: %s (%s)\"\u001B[0m \u001B[1;33m%\u001B[0m \u001B[1;33m(\u001B[0m\u001B[0mext\u001B[0m\u001B[1;33m,\u001B[0m \u001B[0mname\u001B[0m\u001B[1;33m)\u001B[0m\u001B[1;33m\u001B[0m\u001B[1;33m\u001B[0m\u001B[0m\n",
      "\u001B[1;31mAttributeError\u001B[0m: module 'fsspec' has no attribute 'utils'"
     ]
    }
   ],
   "source": [
    "df2.to_csv('labeled_reddit_comments.csv')"
   ],
   "metadata": {
    "collapsed": false,
    "pycharm": {
     "name": "#%%\n"
    }
   }
  },
  {
   "cell_type": "markdown",
   "source": [
    "## Dataset Overview and EDA"
   ],
   "metadata": {
    "collapsed": false,
    "pycharm": {
     "name": "#%% md\n"
    }
   }
  },
  {
   "cell_type": "code",
   "execution_count": 10,
   "outputs": [
    {
     "name": "stdout",
     "output_type": "stream",
     "text": [
      "Below are some samples of positive headlines:\n",
      "\n",
      "['Democrats to maintain control of the United States Senate',\n",
      " 'MAGA Republicans scheme to shiv Kevin McCarthy’s speaker bid unless he '\n",
      " 'agrees to their demands: Freedom Caucus has a two-step plan to keep the '\n",
      " 'Californian Republican from the most influential role in Congress',\n",
      " 'Nevada voters are about to pass the most comprehensive LGBTQ rights '\n",
      " 'amendment in the nation',\n",
      " 'Senate advances Respect for Marriage Act in bipartisan 62-37 vote',\n",
      " 'Both parties gear up for Georgia Senate runoff with eyes on Arizona and '\n",
      " 'Nevada']\n",
      "\n",
      "\n",
      "***************************************************************************\n",
      "\n",
      "\n",
      "Below are some samples of negative headlines:\n",
      "\n",
      "['Jan. 6 committee staffers told preliminary plan for final report would '\n",
      " 'focus largely on Trump, not on law enforcement failures, sources say',\n",
      " 'There’s a Lot Congress Can Do Now, and It Starts With Changing a Law '\n",
      " 'That Trump Exploited',\n",
      " 'Biden’s student-debt con job fooled Gen Z for the midterms — will the '\n",
      " 'kids wake up?',\n",
      " 'Arizona precincts with voting problems were not overwhelmingly '\n",
      " 'Republican | Data analysis by The Washington Post undercuts claims '\n",
      " 'pushed by gubernatorial candidate Kari Lake and former president Donald '\n",
      " 'Trump, among others',\n",
      " 'Federal prosecutors decline to file charges against Rudy Giuliani '\n",
      " 'following FBI raid']\n"
     ]
    }
   ],
   "source": [
    "# view samples of positive and negative headlines\n",
    "print('Below are some samples of positive headlines:\\n')\n",
    "pprint(list(df[df['label'] == 1].headlines)[:5], width=75)\n",
    "\n",
    "print('\\n\\n' + '*' * 75 + '\\n\\n')\n",
    "\n",
    "print('Below are some samples of negative headlines:\\n')\n",
    "pprint(list(df[df['label'] == -1].headlines)[:5], width=75)"
   ],
   "metadata": {
    "collapsed": false,
    "pycharm": {
     "name": "#%%\n"
    }
   }
  },
  {
   "cell_type": "code",
   "execution_count": 11,
   "outputs": [
    {
     "name": "stdout",
     "output_type": "stream",
     "text": [
      " 0.0    450\n",
      "-1.0    313\n",
      " 1.0    229\n",
      "Name: label, dtype: int64\n",
      " 0.0    45.362903\n",
      "-1.0    31.552419\n",
      " 1.0    23.084677\n",
      "Name: label, dtype: float64\n"
     ]
    }
   ],
   "source": [
    "# check amount of positive, negative, and neutral headlines are measured in the dataset\n",
    "print(df['label'].value_counts()) # total count\n",
    "print(df['label'].value_counts(normalize=True) * 100) # representation as a proportion of the data"
   ],
   "metadata": {
    "collapsed": false,
    "pycharm": {
     "name": "#%%\n"
    }
   }
  },
  {
   "cell_type": "markdown",
   "source": [
    "Nearly 1/2 of the headlines have been encoded as `neutral`, while approximately 32% of the headlines are `negative`. The remaining 24% are `positive`"
   ],
   "metadata": {
    "collapsed": false,
    "pycharm": {
     "name": "#%% md\n"
    }
   }
  },
  {
   "cell_type": "code",
   "execution_count": 12,
   "outputs": [
    {
     "data": {
      "text/plain": "<Figure size 720x360 with 1 Axes>",
      "image/png": "[encoded data removed]"
     },
     "metadata": {},
     "output_type": "display_data"
    }
   ],
   "source": [
    "# view the same info as a bar chart visualization\n",
    "fig, ax = plt.subplots(figsize=(10,5))\n",
    "\n",
    "counts = df['label'].value_counts(normalize=True) * 100\n",
    "\n",
    "sns.barplot(x=counts.index, y=counts, ax=ax)\n",
    "\n",
    "ax.set_xticklabels(['Negative', 'Neutral', 'Positive'])\n",
    "ax.set_ylabel('Dataset Proportion %')\n",
    "\n",
    "plt.show()"
   ],
   "metadata": {
    "collapsed": false,
    "pycharm": {
     "name": "#%%\n"
    }
   }
  },
  {
   "cell_type": "markdown",
   "source": [
    "So, something to keep in mind as the project progresses is that the dataset is quite biases towards `neutral` rating score"
   ],
   "metadata": {
    "collapsed": false,
    "pycharm": {
     "name": "#%% md\n"
    }
   }
  },
  {
   "cell_type": "markdown",
   "source": [
    "## Tokenizing The Data and Accounting For Stopwords"
   ],
   "metadata": {
    "collapsed": false,
    "pycharm": {
     "name": "#%% md\n"
    }
   }
  },
  {
   "cell_type": "code",
   "execution_count": 13,
   "outputs": [],
   "source": [
    "# create tokens for each record so that it can be more easily understood by a machine\n",
    "from nltk.tokenize import word_tokenize, RegexpTokenizer\n",
    "from nltk.corpus import stopwords\n",
    "\n",
    "# create new regular expression tokenizer object\n",
    "tokenizer = RegexpTokenizer(r'\\w+')\n",
    "\n",
    "# create new stopwords object\n",
    "stop_words = stopwords.words('english')"
   ],
   "metadata": {
    "collapsed": false,
    "pycharm": {
     "name": "#%%\n"
    }
   }
  },
  {
   "cell_type": "code",
   "execution_count": 14,
   "outputs": [],
   "source": [
    "# utility function that takes headlines as input, and returns clean \"tokens\"\n",
    "def tokenize_and_remove_stopwords(headlines):\n",
    "    tokens = [] # init empty list to append new tokens\n",
    "\n",
    "    # iterate through each headline and create token and remove stopwords\n",
    "    for headline in headlines:\n",
    "        token = tokenizer.tokenize(headline)\n",
    "        token = [t.lower() for t in token if t.lower() not in stop_words]\n",
    "        tokens.extend(token)\n",
    "\n",
    "    return tokens"
   ],
   "metadata": {
    "collapsed": false,
    "pycharm": {
     "name": "#%%\n"
    }
   }
  },
  {
   "cell_type": "code",
   "execution_count": 15,
   "outputs": [
    {
     "data": {
      "text/plain": "[('democrats', 41),\n ('senate', 39),\n ('trump', 38),\n ('arizona', 30),\n ('wins', 30),\n ('win', 29),\n ('election', 21),\n ('supreme', 20),\n ('court', 20),\n ('gop', 20),\n ('house', 19),\n ('biden', 18),\n ('party', 17),\n ('republican', 15),\n ('race', 14)]"
     },
     "execution_count": 15,
     "metadata": {},
     "output_type": "execute_result"
    }
   ],
   "source": [
    "# extract common words from positive headlines using freqdist function\n",
    "positive_headlines = list(df[df['label'] == 1].headlines)\n",
    "\n",
    "# extract tokens using utility function\n",
    "positive_tokens = tokenize_and_remove_stopwords(positive_headlines)\n",
    "positive_frequency = nltk.FreqDist(positive_tokens)\n",
    "\n",
    "# display most common positive tokens\n",
    "positive_frequency.most_common(15)"
   ],
   "metadata": {
    "collapsed": false,
    "pycharm": {
     "name": "#%%\n"
    }
   }
  }
 ],
 "metadata": {
  "kernelspec": {
   "display_name": "Python 3",
   "language": "python",
   "name": "python3"
  },
  "language_info": {
   "codemirror_mode": {
    "name": "ipython",
    "version": 2
   },
   "file_extension": ".py",
   "mimetype": "text/x-python",
   "name": "python",
   "nbconvert_exporter": "python",
   "pygments_lexer": "ipython2",
   "version": "2.7.6"
  }
 },
 "nbformat": 4,
 "nbformat_minor": 0
}