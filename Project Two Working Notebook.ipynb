{
 "cells": [
  {
   "cell_type": "code",
   "execution_count": 15,
   "outputs": [
    {
     "name": "stdout",
     "output_type": "stream",
     "text": [
      "Requirement already satisfied: tqdm in c:\\users\\taylo\\anaconda3\\envs\\dsc650\\lib\\site-packages (4.64.1)\n"
     ]
    },
    {
     "name": "stderr",
     "output_type": "stream",
     "text": [
      "WARNING: Error parsing requirements for pandas: [Errno 2] No such file or directory: 'c:\\\\users\\\\taylo\\\\anaconda3\\\\envs\\\\dsc650\\\\lib\\\\site-packages\\\\pandas-1.1.5.dist-info\\\\METADATA'\n"
     ]
    },
    {
     "name": "stdout",
     "output_type": "stream",
     "text": [
      "Requirement already satisfied: importlib-resources in c:\\users\\taylo\\anaconda3\\envs\\dsc650\\lib\\site-packages (from tqdm) (5.4.0)\n",
      "Requirement already satisfied: colorama in c:\\users\\taylo\\anaconda3\\envs\\dsc650\\lib\\site-packages (from tqdm) (0.4.3)\n",
      "Requirement already satisfied: zipp>=3.1.0 in c:\\users\\taylo\\anaconda3\\envs\\dsc650\\lib\\site-packages (from importlib-resources->tqdm) (3.1.0)\n"
     ]
    }
   ],
   "source": [
    "!pip install tqdm"
   ],
   "metadata": {
    "collapsed": false,
    "pycharm": {
     "name": "#%%\n"
    }
   }
  },
  {
   "cell_type": "code",
   "execution_count": 22,
   "outputs": [],
   "source": [
    "# import required libraries\n",
    "import praw\n",
    "from IPython import display\n",
    "from pprint import pprint\n",
    "import pandas as pd\n",
    "import numpy as np\n",
    "import nltk\n",
    "import tqdm\n",
    "import matplotlib.pyplot as plt\n",
    "import seaborn as sns\n",
    "\n",
    "from nltk.sentiment.vader import SentimentIntensityAnalyzer as SIA\n",
    "\n",
    "sns.set(style='darkgrid')"
   ],
   "metadata": {
    "collapsed": false,
    "pycharm": {
     "name": "#%%\n"
    }
   }
  },
  {
   "cell_type": "code",
   "execution_count": 11,
   "outputs": [],
   "source": [
    "reddit = praw.Reddit(client_id='vm4lkJvkhWM00FjppcHjPA',\n",
    "                     client_secret='m2-rS76QQV22MAUv2E7bB0YzRA0U4w',\n",
    "                     user_agent='MrKimhof')"
   ],
   "metadata": {
    "collapsed": false,
    "pycharm": {
     "name": "#%%\n"
    }
   }
  },
  {
   "cell_type": "code",
   "execution_count": 12,
   "outputs": [],
   "source": [
    "# define set for headlines\n",
    "# set removes chances of getting duplicate headlines\n",
    "headlines = set()"
   ],
   "metadata": {
    "collapsed": false,
    "pycharm": {
     "name": "#%%\n"
    }
   }
  },
  {
   "cell_type": "code",
   "execution_count": 20,
   "outputs": [
    {
     "name": "stdout",
     "output_type": "stream",
     "text": [
      "973\n"
     ]
    }
   ],
   "source": [
    "# for each post is the /r/politics subreddit, iterate through and extract the headlines\n",
    "for post in reddit.subreddit('politics').new(limit=None):\n",
    "    headlines.add(post.title)\n",
    "    display.clear_output()\n",
    "    print(len(headlines))"
   ],
   "metadata": {
    "collapsed": false,
    "pycharm": {
     "name": "#%%\n"
    }
   }
  },
  {
   "cell_type": "code",
   "execution_count": 30,
   "outputs": [
    {
     "name": "stderr",
     "output_type": "stream",
     "text": [
      "[nltk_data] Downloading package vader_lexicon to\n",
      "[nltk_data]     C:\\Users\\taylo\\AppData\\Roaming\\nltk_data...\n",
      "[nltk_data]   Package vader_lexicon is already up-to-date!\n",
      "[nltk_data] Downloading package stopwords to\n",
      "[nltk_data]     C:\\Users\\taylo\\AppData\\Roaming\\nltk_data...\n",
      "[nltk_data]   Unzipping corpora\\stopwords.zip.\n"
     ]
    },
    {
     "data": {
      "text/plain": "True"
     },
     "execution_count": 30,
     "metadata": {},
     "output_type": "execute_result"
    }
   ],
   "source": [
    "nltk.download('vader_lexicon')\n",
    "nltk.download('stopwords')"
   ],
   "metadata": {
    "collapsed": false,
    "pycharm": {
     "name": "#%%\n"
    }
   }
  },
  {
   "cell_type": "code",
   "execution_count": 29,
   "outputs": [
    {
     "name": "stdout",
     "output_type": "stream",
     "text": [
      "[{'compound': -0.6808,\n",
      "  'headlines': 'Election denier Finchem defeated in Arizona secretary of '\n",
      "               'state race',\n",
      "  'neg': 0.412,\n",
      "  'neu': 0.588,\n",
      "  'pos': 0.0},\n",
      " {'compound': -0.7184,\n",
      "  'headlines': 'The Attempt to Anoint Ron DeSantis as Trump’s Heir Will '\n",
      "               'Fail: Republican elites are making the same mistakes they '\n",
      "               'made in 2016.',\n",
      "  'neg': 0.231,\n",
      "  'neu': 0.769,\n",
      "  'pos': 0.0},\n",
      " {'compound': 0.0,\n",
      "  'headlines': 'White House asks Congress for $37.7B in new Ukraine aid',\n",
      "  'neg': 0.0,\n",
      "  'neu': 1.0,\n",
      "  'pos': 0.0},\n",
      " {'compound': -0.7845,\n",
      "  'headlines': 'Blame All the Single Ladies - Some pundits on the right '\n",
      "               'have decided that unmarried women are at fault for the '\n",
      "               'GOP’s electoral dysfunction.',\n",
      "  'neg': 0.283,\n",
      "  'neu': 0.717,\n",
      "  'pos': 0.0},\n",
      " {'compound': 0.6486,\n",
      "  'headlines': 'Two Winners in Tuesday’s Election: Liz Cheney and '\n",
      "               'Democracy | Despite pundits’ predictions, the country was '\n",
      "               'energized to vote against election deniers.',\n",
      "  'neg': 0.079,\n",
      "  'neu': 0.679,\n",
      "  'pos': 0.242}]\n"
     ]
    }
   ],
   "source": [
    "# use vader SIA to rank each portion of the text as positive, negative, or neutral\n",
    "\n",
    "# create new sia object\n",
    "sia = SIA()\n",
    "results = [] # empty to list to append calculated polarity scores\n",
    "\n",
    "# iterate through each headline in set and append to results list\n",
    "for headline in headlines:\n",
    "    polarity = sia.polarity_scores(headline)\n",
    "    polarity['headlines'] = headline\n",
    "    results.append(polarity)\n",
    "\n",
    "# print results to ensure scores encoded properly\n",
    "pprint(results[:5], width=75)"
   ],
   "metadata": {
    "collapsed": false,
    "pycharm": {
     "name": "#%%\n"
    }
   }
  },
  {
   "cell_type": "code",
   "execution_count": 31,
   "outputs": [
    {
     "data": {
      "text/plain": "     neg    neu    pos  compound  \\\n0  0.412  0.588  0.000   -0.6808   \n1  0.231  0.769  0.000   -0.7184   \n2  0.000  1.000  0.000    0.0000   \n3  0.283  0.717  0.000   -0.7845   \n4  0.079  0.679  0.242    0.6486   \n\n                                           headlines  \n0  Election denier Finchem defeated in Arizona se...  \n1  The Attempt to Anoint Ron DeSantis as Trump’s ...  \n2  White House asks Congress for $37.7B in new Uk...  \n3  Blame All the Single Ladies - Some pundits on ...  \n4  Two Winners in Tuesday’s Election: Liz Cheney ...  ",
      "text/html": "<div>\n<style scoped>\n    .dataframe tbody tr th:only-of-type {\n        vertical-align: middle;\n    }\n\n    .dataframe tbody tr th {\n        vertical-align: top;\n    }\n\n    .dataframe thead th {\n        text-align: right;\n    }\n</style>\n<table border=\"1\" class=\"dataframe\">\n  <thead>\n    <tr style=\"text-align: right;\">\n      <th></th>\n      <th>neg</th>\n      <th>neu</th>\n      <th>pos</th>\n      <th>compound</th>\n      <th>headlines</th>\n    </tr>\n  </thead>\n  <tbody>\n    <tr>\n      <th>0</th>\n      <td>0.412</td>\n      <td>0.588</td>\n      <td>0.000</td>\n      <td>-0.6808</td>\n      <td>Election denier Finchem defeated in Arizona se...</td>\n    </tr>\n    <tr>\n      <th>1</th>\n      <td>0.231</td>\n      <td>0.769</td>\n      <td>0.000</td>\n      <td>-0.7184</td>\n      <td>The Attempt to Anoint Ron DeSantis as Trump’s ...</td>\n    </tr>\n    <tr>\n      <th>2</th>\n      <td>0.000</td>\n      <td>1.000</td>\n      <td>0.000</td>\n      <td>0.0000</td>\n      <td>White House asks Congress for $37.7B in new Uk...</td>\n    </tr>\n    <tr>\n      <th>3</th>\n      <td>0.283</td>\n      <td>0.717</td>\n      <td>0.000</td>\n      <td>-0.7845</td>\n      <td>Blame All the Single Ladies - Some pundits on ...</td>\n    </tr>\n    <tr>\n      <th>4</th>\n      <td>0.079</td>\n      <td>0.679</td>\n      <td>0.242</td>\n      <td>0.6486</td>\n      <td>Two Winners in Tuesday’s Election: Liz Cheney ...</td>\n    </tr>\n  </tbody>\n</table>\n</div>"
     },
     "execution_count": 31,
     "metadata": {},
     "output_type": "execute_result"
    }
   ],
   "source": [
    "# create pandas dataframe from records create in previous step\n",
    "df = pd.DataFrame.from_records(results)\n",
    "df.head() # display first five obs to ensure data loaded properly"
   ],
   "metadata": {
    "collapsed": false,
    "pycharm": {
     "name": "#%%\n"
    }
   }
  },
  {
   "cell_type": "code",
   "execution_count": 36,
   "outputs": [
    {
     "data": {
      "text/plain": "     neg    neu    pos  compound  \\\n0  0.412  0.588  0.000   -0.6808   \n1  0.231  0.769  0.000   -0.7184   \n2  0.000  1.000  0.000    0.0000   \n3  0.283  0.717  0.000   -0.7845   \n4  0.079  0.679  0.242    0.6486   \n\n                                                                                                                                                 headlines  \\\n0                                                                                      Election denier Finchem defeated in Arizona secretary of state race   \n1                          The Attempt to Anoint Ron DeSantis as Trump’s Heir Will Fail: Republican elites are making the same mistakes they made in 2016.   \n2                                                                                                  White House asks Congress for $37.7B in new Ukraine aid   \n3              Blame All the Single Ladies - Some pundits on the right have decided that unmarried women are at fault for the GOP’s electoral dysfunction.   \n4  Two Winners in Tuesday’s Election: Liz Cheney and Democracy | Despite pundits’ predictions, the country was energized to vote against election deniers.   \n\n     0  label  \n0 -1.0   -1.0  \n1 -1.0   -1.0  \n2  0.0    0.0  \n3 -1.0   -1.0  \n4  1.0    1.0  ",
      "text/html": "<div>\n<style scoped>\n    .dataframe tbody tr th:only-of-type {\n        vertical-align: middle;\n    }\n\n    .dataframe tbody tr th {\n        vertical-align: top;\n    }\n\n    .dataframe thead th {\n        text-align: right;\n    }\n</style>\n<table border=\"1\" class=\"dataframe\">\n  <thead>\n    <tr style=\"text-align: right;\">\n      <th></th>\n      <th>neg</th>\n      <th>neu</th>\n      <th>pos</th>\n      <th>compound</th>\n      <th>headlines</th>\n      <th>0</th>\n      <th>label</th>\n    </tr>\n  </thead>\n  <tbody>\n    <tr>\n      <th>0</th>\n      <td>0.412</td>\n      <td>0.588</td>\n      <td>0.000</td>\n      <td>-0.6808</td>\n      <td>Election denier Finchem defeated in Arizona secretary of state race</td>\n      <td>-1.0</td>\n      <td>-1.0</td>\n    </tr>\n    <tr>\n      <th>1</th>\n      <td>0.231</td>\n      <td>0.769</td>\n      <td>0.000</td>\n      <td>-0.7184</td>\n      <td>The Attempt to Anoint Ron DeSantis as Trump’s Heir Will Fail: Republican elites are making the same mistakes they made in 2016.</td>\n      <td>-1.0</td>\n      <td>-1.0</td>\n    </tr>\n    <tr>\n      <th>2</th>\n      <td>0.000</td>\n      <td>1.000</td>\n      <td>0.000</td>\n      <td>0.0000</td>\n      <td>White House asks Congress for $37.7B in new Ukraine aid</td>\n      <td>0.0</td>\n      <td>0.0</td>\n    </tr>\n    <tr>\n      <th>3</th>\n      <td>0.283</td>\n      <td>0.717</td>\n      <td>0.000</td>\n      <td>-0.7845</td>\n      <td>Blame All the Single Ladies - Some pundits on the right have decided that unmarried women are at fault for the GOP’s electoral dysfunction.</td>\n      <td>-1.0</td>\n      <td>-1.0</td>\n    </tr>\n    <tr>\n      <th>4</th>\n      <td>0.079</td>\n      <td>0.679</td>\n      <td>0.242</td>\n      <td>0.6486</td>\n      <td>Two Winners in Tuesday’s Election: Liz Cheney and Democracy | Despite pundits’ predictions, the country was energized to vote against election deniers.</td>\n      <td>1.0</td>\n      <td>1.0</td>\n    </tr>\n  </tbody>\n</table>\n</div>"
     },
     "execution_count": 36,
     "metadata": {},
     "output_type": "execute_result"
    }
   ],
   "source": [
    "# create new label column and encode:\n",
    "#    0: neutral\n",
    "#    1: positive (compound > +0.2)\n",
    "#   -1: negative (compound < -0.2)\n",
    "df['label'] = 0\n",
    "df.loc[df.compound == 0, 'label'] = 0\n",
    "df.loc[df.compound > 0.2, 'label'] = 1.0\n",
    "df.loc[df.compound < -0.2, 'label'] = -1\n",
    "\n",
    "# display first five obs to ensure new column added properly\n",
    "df.head()"
   ],
   "metadata": {
    "collapsed": false,
    "pycharm": {
     "name": "#%%\n"
    }
   }
  },
  {
   "cell_type": "code",
   "execution_count": 38,
   "outputs": [],
   "source": [
    "# create new df with just target label and headline feature\n",
    "df2 = df[['headlines', 'label']]"
   ],
   "metadata": {
    "collapsed": false,
    "pycharm": {
     "name": "#%%\n"
    }
   }
  },
  {
   "cell_type": "markdown",
   "source": [
    "## Dataset Overview and EDA"
   ],
   "metadata": {
    "collapsed": false,
    "pycharm": {
     "name": "#%% md\n"
    }
   }
  },
  {
   "cell_type": "code",
   "execution_count": 44,
   "outputs": [
    {
     "name": "stdout",
     "output_type": "stream",
     "text": [
      "Below are some samples of positive headlines:\n",
      "\n",
      "['Two Winners in Tuesday’s Election: Liz Cheney and Democracy | Despite '\n",
      " 'pundits’ predictions, the country was energized to vote against '\n",
      " 'election deniers.',\n",
      " 'Megathread: Cortez Masto wins Nevada Senate race, clinching Democratic '\n",
      " 'control of Senate Democrats; Georgia Senate Runoff Set for December 6th',\n",
      " 'Meet the Pollster Who Convinced Republicans There Would Be a Red Wave',\n",
      " 'New York Democrats urge Hochul to push out the state party chair.',\n",
      " 'After election, Texas Democrats admit faltering on messaging, voter '\n",
      " 'turnout']\n",
      "\n",
      "\n",
      "***************************************************************************\n",
      "\n",
      "\n",
      "Below are some samples of negative headlines:\n",
      "\n",
      "['Election denier Finchem defeated in Arizona secretary of state race',\n",
      " 'The Attempt to Anoint Ron DeSantis as Trump’s Heir Will Fail: '\n",
      " 'Republican elites are making the same mistakes they made in 2016.',\n",
      " 'Blame All the Single Ladies - Some pundits on the right have decided '\n",
      " 'that unmarried women are at fault for the GOP’s electoral dysfunction.',\n",
      " 'Kevin McCarthy might be in for a bad time trying to become House '\n",
      " 'speaker',\n",
      " 'Trump mocks another potential GOP 2024 opponent, saying Virginia Gov. '\n",
      " \"Youngkin's name 'sounds Chinese'\"]\n"
     ]
    }
   ],
   "source": [
    "# view samples of positive and negative headlines\n",
    "print('Below are some samples of positive headlines:\\n')\n",
    "pprint(list(df[df['label'] == 1].headlines)[:5], width=75)\n",
    "\n",
    "print('\\n\\n' + '*' * 75 + '\\n\\n')\n",
    "\n",
    "print('Below are some samples of negative headlines:\\n')\n",
    "pprint(list(df[df['label'] == -1].headlines)[:5], width=75)"
   ],
   "metadata": {
    "collapsed": false,
    "pycharm": {
     "name": "#%%\n"
    }
   }
  },
  {
   "cell_type": "code",
   "execution_count": 51,
   "outputs": [
    {
     "name": "stdout",
     "output_type": "stream",
     "text": [
      " 0.0    433\n",
      "-1.0    310\n",
      " 1.0    230\n",
      "Name: label, dtype: int64\n",
      " 0.0    44.501542\n",
      "-1.0    31.860226\n",
      " 1.0    23.638232\n",
      "Name: label, dtype: float64\n"
     ]
    }
   ],
   "source": [
    "# check amount of positive, negative, and neutral headlines are measured in the dataset\n",
    "print(df['label'].value_counts()) # total count\n",
    "print(df['label'].value_counts(normalize=True) * 100) # representation as a proportion of the data"
   ],
   "metadata": {
    "collapsed": false,
    "pycharm": {
     "name": "#%%\n"
    }
   }
  },
  {
   "cell_type": "markdown",
   "source": [
    "Nearly 1/2 of the headlines have been encoded as `neutral`, while approximately 32% of the headlines are `negative`. The remaining 24% are `positive`"
   ],
   "metadata": {
    "collapsed": false,
    "pycharm": {
     "name": "#%% md\n"
    }
   }
  },
  {
   "cell_type": "code",
   "execution_count": 52,
   "outputs": [
    {
     "data": {
      "text/plain": "<Figure size 720x360 with 1 Axes>",
      "image/png": "[encoded data removed]"
     },
     "metadata": {},
     "output_type": "display_data"
    }
   ],
   "source": [
    "# view the same info as a bar chart visualization\n",
    "fig, ax = plt.subplots(figsize=(10,5))\n",
    "\n",
    "counts = df['label'].value_counts(normalize=True) * 100\n",
    "\n",
    "sns.barplot(x=counts.index, y=counts, ax=ax)\n",
    "\n",
    "ax.set_xticklabels(['Negative', 'Neutral', 'Positive'])\n",
    "ax.set_ylabel('Dataset Proportion %')\n",
    "\n",
    "plt.show()"
   ],
   "metadata": {
    "collapsed": false,
    "pycharm": {
     "name": "#%%\n"
    }
   }
  },
  {
   "cell_type": "markdown",
   "source": [
    "So, something to keep in mind as the project progresses is that the dataset is quite biases towards `neutral` rating score"
   ],
   "metadata": {
    "collapsed": false,
    "pycharm": {
     "name": "#%% md\n"
    }
   }
  },
  {
   "cell_type": "markdown",
   "source": [
    "## Tokenizing The Data and Accounting For Stopwords"
   ],
   "metadata": {
    "collapsed": false,
    "pycharm": {
     "name": "#%% md\n"
    }
   }
  },
  {
   "cell_type": "code",
   "execution_count": 60,
   "outputs": [],
   "source": [
    "# create tokens for each record so that it can be more easily understood by a machine\n",
    "from nltk.tokenize import word_tokenize, RegexpTokenizer\n",
    "from nltk.corpus import stopwords\n",
    "\n",
    "# create new regular expression tokenizer object\n",
    "tokenizer = RegexpTokenizer(r'\\w+')\n",
    "\n",
    "# create new stopwords object\n",
    "stop_words = stopwords.words('english')"
   ],
   "metadata": {
    "collapsed": false,
    "pycharm": {
     "name": "#%%\n"
    }
   }
  },
  {
   "cell_type": "code",
   "execution_count": 61,
   "outputs": [],
   "source": [
    "# utility function that takes headlines as input, and returns clean \"tokens\"\n",
    "def tokenize_and_remove_stopwords(headlines):\n",
    "    tokens = [] # init empty list to append new tokens\n",
    "\n",
    "    # iterate through each headline and create token and remove stopwords\n",
    "    for headline in headlines:\n",
    "        token = tokenizer.tokenize(headline)\n",
    "        token = [t.lower() for t in token if t.lower() not in stop_words]\n",
    "        tokens.extend(token)\n",
    "\n",
    "    return tokens"
   ],
   "metadata": {
    "collapsed": false,
    "pycharm": {
     "name": "#%%\n"
    }
   }
  },
  {
   "cell_type": "code",
   "execution_count": 64,
   "outputs": [
    {
     "data": {
      "text/plain": "[('democrats', 43),\n ('trump', 34),\n ('senate', 33),\n ('arizona', 31),\n ('wins', 30),\n ('win', 27),\n ('election', 22),\n ('supreme', 22),\n ('court', 22),\n ('house', 20),\n ('biden', 18),\n ('gop', 18),\n ('party', 17),\n ('race', 16),\n ('control', 14)]"
     },
     "execution_count": 64,
     "metadata": {},
     "output_type": "execute_result"
    }
   ],
   "source": [
    "# extract common words from positive headlines using freqdist function\n",
    "positive_headlines = list(df[df['label'] == 1].headlines)\n",
    "\n",
    "# extract tokens using utility function\n",
    "positive_tokens = tokenize_and_remove_stopwords(positive_headlines)\n",
    "positive_frequency = nltk.FreqDist(positive_tokens)\n",
    "\n",
    "# display most common positive tokens\n",
    "positive_frequency.most_common(15)"
   ],
   "metadata": {
    "collapsed": false,
    "pycharm": {
     "name": "#%%\n"
    }
   }
  }
 ],
 "metadata": {
  "kernelspec": {
   "display_name": "Python 3",
   "language": "python",
   "name": "python3"
  },
  "language_info": {
   "codemirror_mode": {
    "name": "ipython",
    "version": 2
   },
   "file_extension": ".py",
   "mimetype": "text/x-python",
   "name": "python",
   "nbconvert_exporter": "python",
   "pygments_lexer": "ipython2",
   "version": "2.7.6"
  }
 },
 "nbformat": 4,
 "nbformat_minor": 0
}